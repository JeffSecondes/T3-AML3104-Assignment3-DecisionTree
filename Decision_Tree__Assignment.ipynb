{
 "cells": [
  {
   "cell_type": "markdown",
   "metadata": {},
   "source": [
    "<center><h2>Decision Tree (Assignment 3) <br> </marquee></h2>\n",
    "\n",
    "Jefford Secondes, C0865112<br>\n",
    "Lambton College<br>\n",
    "T3 AML3104 - NEURAL NETWORKS AND DEEP LEARNING 01<br>\n",
    "Prof. Ishant Gupta<br>\n",
    "November 7, 2023<br>\n"
   ]
  },
  {
   "cell_type": "markdown",
   "metadata": {},
   "source": [
    "<font color=gray> <b> Q1. Describe the decision tree classifier algorithm and how it works to make predictions. <br>\n",
    "Q2. Provide a step-by-step explanation of the mathematical intuition behind decision tree classification.<br>\n",
    "Q3. Explain how a decision tree classifier can be used to solve a binary classification problem.<br>\n",
    "Q4. Discuss the geometric intuition behind decision tree classification and how it can be used to make predictions.<br>\n",
    "Q5. Define the confusion matrix and describe how it can be used to evaluate the performance of a classification model.<br>\n",
    "Q6. Provide an example of a confusion matrix and explain how precision, recall, and F1 score can be calculated from it.<br>\n",
    "Q7. Discuss the importance of choosing an appropriate evaluation metric for a classification problem and\n",
    "explain how this can be done.<br>\n",
    "Q8. Provide an example of a classification problem where precision is the most important metric, and\n",
    "explain why.<br>\n",
    "Q9. Provide an example of a classification problem where recall is the most important metric and explain why.<br><br>\n",
    "Note: Generate your assignment as a Python notebook file, upload it to Moodle, and share the GitHub link. Ensure the repository is public, and provide the GitHub repository link through your dashboard.<br>"
   ]
  },
  {
   "cell_type": "markdown",
   "metadata": {},
   "source": [
    "![separator1](https://i.imgur.com/RQnsV0w.png)\n"
   ]
  },
  {
   "cell_type": "markdown",
   "metadata": {},
   "source": [
    "<font color=Cyan> <b> Q1. Describe the decision tree classifier algorithm and how it works to make predictions. <br>"
   ]
  },
  {
   "cell_type": "markdown",
   "metadata": {},
   "source": [
    "![separator1](https://i.imgur.com/RQnsV0w.png)\n"
   ]
  },
  {
   "cell_type": "markdown",
   "metadata": {},
   "source": []
  }
 ],
 "metadata": {
  "language_info": {
   "name": "python"
  }
 },
 "nbformat": 4,
 "nbformat_minor": 2
}
